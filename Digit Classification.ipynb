{
 "cells": [
  {
   "cell_type": "code",
   "execution_count": 36,
   "id": "d1637bfc-6d25-41c3-b390-c4f597f6fec2",
   "metadata": {},
   "outputs": [],
   "source": [
    "import scipy.io\n",
    "import pandas as pd\n",
    "import numpy as np\n",
    "from matplotlib import pyplot as plt\n",
    "from skimage.transform import rescale, resize, downscale_local_mean\n",
    "from sklearn.model_selection import train_test_split\n",
    "from sklearn.ensemble import RandomForestClassifier\n",
    "from sklearn.metrics import recall_score, precision_score, RocCurveDisplay, confusion_matrix, roc_curve\n",
    "\n",
    "#Import Data\n",
    "\n",
    "mat = scipy.io.loadmat('digits.mat')\n",
    "mat = {k:v for k, v in mat.items() if k[0] != '_'}\n",
    "for i in mat:\n",
    "        if '__' not in i and 'readme' not in i:\n",
    "              np.savetxt((\"filetest.csv\"),mat[i],delimiter=',')\n",
    "                \n",
    "df = pd.DataFrame(mat['X'])\n",
    "df['label'] = mat['y']\n",
    "\n",
    "\n",
    "def plot_confusion_matrix(cm, title='Confusion matrix', cmap='Pastel1'):\n",
    "    plt.figure(figsize=(9,9))\n",
    "    plt.imshow(cm, interpolation='nearest', cmap=cmap)\n",
    "    plt.title(title, size = 15)\n",
    "    plt.colorbar()\n",
    "    tick_marks = np.arange(10)\n",
    "    plt.xticks(tick_marks, [\"0\", \"1\", \"2\", \"3\", \"4\", \"5\", \"6\", \"7\", \"8\", \"9\"], rotation=45, size = 10)\n",
    "    plt.yticks(tick_marks, [\"0\", \"1\", \"2\", \"3\", \"4\", \"5\", \"6\", \"7\", \"8\", \"9\"], size = 10)\n",
    "    plt.tight_layout()\n",
    "    plt.ylabel('Actual label', size = 15)\n",
    "    plt.xlabel('Predicted label', size = 15)\n",
    "    width, height = cm.shape\n",
    "\n",
    "    for x in range(width):\n",
    "        for y in range(height):\n",
    "            plt.annotate(str(cm[x][y]), xy=(y, x), \n",
    "                        horizontalalignment='center',\n",
    "                        verticalalignment='center')"
   ]
  },
  {
   "cell_type": "code",
   "execution_count": 2,
   "id": "82b5a6c5-d076-46bd-9fa1-008ed204b365",
   "metadata": {},
   "outputs": [],
   "source": [
    "# Create 2 other data sets that have different pixel resolution\n",
    "res16 = []\n",
    "res8 = []\n",
    "for i in np.arange(len(df)):\n",
    "    newsize = resize(np.array(df.iloc[i,0:400]).reshape(20,20), (16,16), anti_aliasing=True).flatten()\n",
    "    res16.append(newsize)\n",
    "    newsize = resize(np.array(df.iloc[i,0:400]).reshape(20,20), (8,8), anti_aliasing=True).flatten()\n",
    "    res8.append(newsize)\n",
    "resize16 = pd.DataFrame(res16)\n",
    "resize8 = pd.DataFrame(res8)"
   ]
  },
  {
   "cell_type": "code",
   "execution_count": 31,
   "id": "4ccae24c-ae5f-489b-b7cb-3cf30a4ff884",
   "metadata": {},
   "outputs": [
    {
     "data": {
      "image/png": "[encoded data removed]",
      "text/plain": [
       "<Figure size 432x288 with 1 Axes>"
      ]
     },
     "metadata": {
      "needs_background": "light"
     },
     "output_type": "display_data"
    }
   ],
   "source": [
    "plt.imshow(np.array(df.iloc[4200,0:400]).reshape(20,20), interpolation='nearest', cmap='gray')\n",
    "plt.savefig('20pix.png', bbox_inches='tight')"
   ]
  },
  {
   "cell_type": "code",
   "execution_count": 32,
   "id": "cd109ab1-ebf9-4b19-8127-7d916f7616e9",
   "metadata": {},
   "outputs": [
    {
     "data": {
      "image/png": "[encoded data removed]",
      "text/plain": [
       "<Figure size 432x288 with 1 Axes>"
      ]
     },
     "metadata": {
      "needs_background": "light"
     },
     "output_type": "display_data"
    }
   ],
   "source": [
    "plt.imshow(np.array(resize16.iloc[4200,0:400]).reshape(16,16), interpolation='nearest', cmap='gray')\n",
    "plt.savefig('16pix.png', bbox_inches='tight')"
   ]
  },
  {
   "cell_type": "code",
   "execution_count": 33,
   "id": "7fcd0a13-e57a-4480-b017-e0d9b19bacd8",
   "metadata": {},
   "outputs": [
    {
     "data": {
      "image/png": "[encoded data removed]",
      "text/plain": [
       "<Figure size 432x288 with 1 Axes>"
      ]
     },
     "metadata": {
      "needs_background": "light"
     },
     "output_type": "display_data"
    }
   ],
   "source": [
    "plt.imshow(np.array(resize8.iloc[4200,0:400]).reshape(8,8), interpolation='nearest', cmap='gray')\n",
    "plt.savefig('8pix.png', bbox_inches='tight')"
   ]
  },
  {
   "cell_type": "code",
   "execution_count": null,
   "id": "669c86dc-0e8e-4038-bf0f-573a7b343ab8",
   "metadata": {},
   "outputs": [],
   "source": []
  },
  {
   "cell_type": "code",
   "execution_count": 27,
   "id": "bb2c0e64-bcdb-4ffa-992f-6955d6d8bd64",
   "metadata": {},
   "outputs": [],
   "source": [
    "# Step 3: Spit data into training and testing, and fit the right classificaiton mdoel\n",
    "\n",
    "# #original size (20 x 20)\n",
    "# x_train, x_test, y_train, y_test = train_test_split(df.iloc[:, 0:400], df.iloc[:,-1], test_size=0.4, stratify = df.iloc[:,-1])\n",
    "\n",
    "# # 16 x 16\n",
    "# x_train, x_test, y_train, y_test = train_test_split(resize16.iloc[:, 0:400], df.iloc[:,-1], test_size=0.1, stratify = df.iloc[:,-1])\n",
    "\n",
    "# 8 x 8\n",
    "x_train, x_test, y_train, y_test = train_test_split(resize8.iloc[:, 0:400], df.iloc[:,-1], test_size=0.1, stratify = df.iloc[:,-1])"
   ]
  },
  {
   "cell_type": "code",
   "execution_count": 28,
   "id": "933f9afe-6e04-4be4-a195-7d0bbe8e0082",
   "metadata": {},
   "outputs": [],
   "source": [
    "#run model\n",
    "\n",
    "RndFst = RandomForestClassifier()\n",
    "RndFst.fit(x_train,y_train)\n",
    "rf_predictions = RndFst.predict(x_test)\n",
    "rf_proba_predictions = RndFst.predict_proba(x_test)\n"
   ]
  },
  {
   "cell_type": "code",
   "execution_count": 29,
   "id": "6d6a69ae-98fb-4fd0-84dd-c924c96569cf",
   "metadata": {},
   "outputs": [],
   "source": [
    "filt6 = []\n",
    "for i in np.arange(len(y_test)):\n",
    "    if y_test.iloc[i] == 6:\n",
    "        x = True\n",
    "    else:\n",
    "        x = False\n",
    "    filt6.append(x)    "
   ]
  },
  {
   "cell_type": "code",
   "execution_count": 30,
   "id": "3d4a0d12-dd98-4dbb-8da4-8321647f1895",
   "metadata": {},
   "outputs": [
    {
     "name": "stdout",
     "output_type": "stream",
     "text": [
      "The Recall is:   0.98  and the Precision is:    0.98\n"
     ]
    }
   ],
   "source": [
    "recall = recall_score(y_test[filt6], rf_predictions[filt6],average='micro')\n",
    "precision = precision_score(y_test[filt6], rf_predictions[filt6], average='micro')\n",
    "print('The Recall is:  ',recall,' and the Precision is:   ',precision, )"
   ]
  },
  {
   "cell_type": "code",
   "execution_count": 38,
   "id": "0a8c058f-1670-4dab-bbc3-dbff09a3a90e",
   "metadata": {},
   "outputs": [],
   "source": [
    "#generate tpr and fpr for roc curve\n",
    "\n",
    "rfp5 = []\n",
    "for i in np.arange(len(rf_proba_predictions)):\n",
    "    x = rf_proba_predictions[i][4]\n",
    "    rfp5.append(x)\n",
    "    \n",
    "fpr5, tpr5, _ = roc_curve(y_test,  rfp5, pos_label=5)\n",
    "\n",
    "\n",
    "rfp6 = []\n",
    "for i in np.arange(len(rf_proba_predictions)):\n",
    "    x = rf_proba_predictions[i][5]\n",
    "    rfp6.append(x)    \n",
    "    \n",
    "fpr6, tpr6, _ = roc_curve(y_test,  rfp6, pos_label=6)    "
   ]
  },
  {
   "cell_type": "code",
   "execution_count": 40,
   "id": "be2f561e-956e-49d9-ac9f-fb745eca0fd9",
   "metadata": {},
   "outputs": [
    {
     "data": {
      "image/png": "[encoded data removed]",
      "text/plain": [
       "<Figure size 432x288 with 1 Axes>"
      ]
     },
     "metadata": {
      "needs_background": "light"
     },
     "output_type": "display_data"
    }
   ],
   "source": [
    "plt.plot(fpr6,tpr6)\n",
    "plt.ylabel('True Positive Rate')\n",
    "plt.xlabel('False Positive Rate')\n",
    "plt.savefig('roc6.png', bbox_inches='tight')"
   ]
  },
  {
   "cell_type": "code",
   "execution_count": 41,
   "id": "651fa01d-9749-448a-ad6f-5798d73d71ca",
   "metadata": {},
   "outputs": [
    {
     "name": "stdout",
     "output_type": "stream",
     "text": [
      "Confusion matrix\n",
      "[[49  0  0  0  0  0  0  1  0  0]\n",
      " [ 0 49  1  0  0  0  0  0  0  0]\n",
      " [ 1  2 44  0  0  1  0  2  0  0]\n",
      " [ 0  1  0 48  0  0  0  0  1  0]\n",
      " [ 0  0  2  1 44  1  0  1  0  1]\n",
      " [ 0  0  0  0  1 49  0  0  0  0]\n",
      " [ 1  0  0  0  0  0 49  0  0  0]\n",
      " [ 1  1  1  0  1  1  1 44  0  0]\n",
      " [ 1  0  0  0  0  0  4  1 44  0]\n",
      " [ 0  0  0  0  0  0  0  0  0 50]]\n"
     ]
    },
    {
     "data": {
      "text/plain": [
       "<Figure size 432x288 with 0 Axes>"
      ]
     },
     "metadata": {},
     "output_type": "display_data"
    },
    {
     "data": {
      "image/png": "[encoded data removed]",
      "text/plain": [
       "<Figure size 648x648 with 2 Axes>"
      ]
     },
     "metadata": {
      "needs_background": "light"
     },
     "output_type": "display_data"
    }
   ],
   "source": [
    "# confusion matrix\n",
    "confusion = confusion_matrix(y_test, rf_predictions)\n",
    "print('Confusion matrix')\n",
    "print(confusion)\n",
    "plt.figure()\n",
    "plot_confusion_matrix(confusion);\n",
    "plt.savefig('digitcm.png', bbox_inches='tight')\n",
    "plt.show();"
   ]
  },
  {
   "cell_type": "code",
   "execution_count": null,
   "id": "606ca065-b8d5-43f6-9b6d-12cd4a2e7b9a",
   "metadata": {},
   "outputs": [],
   "source": []
  }
 ],
 "metadata": {
  "kernelspec": {
   "display_name": "Python 3 (ipykernel)",
   "language": "python",
   "name": "python3"
  },
  "language_info": {
   "codemirror_mode": {
    "name": "ipython",
    "version": 3
   },
   "file_extension": ".py",
   "mimetype": "text/x-python",
   "name": "python",
   "nbconvert_exporter": "python",
   "pygments_lexer": "ipython3",
   "version": "3.9.12"
  }
 },
 "nbformat": 4,
 "nbformat_minor": 5
}

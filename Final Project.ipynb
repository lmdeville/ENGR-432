{
 "cells": [
  {
   "cell_type": "code",
   "execution_count": 369,
   "id": "046e8dac",
   "metadata": {},
   "outputs": [],
   "source": [
    "import pandas as pd\n",
    "import numpy as np\n",
    "import pvlib\n",
    "from pvlib.temperature import TEMPERATURE_MODEL_PARAMETERS"
   ]
  },
  {
   "cell_type": "code",
   "execution_count": 665,
   "id": "ba52f46d",
   "metadata": {},
   "outputs": [],
   "source": [
    "#Read in weather file and specify column names\n",
    "weather_file = 'NREL New Iberia.xlsx'\n",
    "weather = pd.read_excel(weather_file, usecols='A,B,C,D,E,F,G,H', header=None, skiprows=3, nrows=8760)\n",
    "weather.columns = ['MM/DD/YYYY', 'hh:mm:ss', 'GHI', 'DNI', 'DHI', 'Temp', 'WS', 'RH']\n",
    "weather.index = weather['MM/DD/YYYY'].astype(str) + ' ' + weather['hh:mm:ss'].astype(str)\n",
    "weather.index = pd.DatetimeIndex(weather.index)\n",
    "weather.index = weather.index.tz_localize('Etc/GMT+6', ambiguous='infer')"
   ]
  },
  {
   "cell_type": "code",
   "execution_count": 666,
   "id": "5dc3e588",
   "metadata": {},
   "outputs": [],
   "source": [
    "#Cell Full of User Entered Specs\n",
    "\n",
    "#desired nameplate production (MW or kW)\n",
    "nameplate = 60\n",
    "\n",
    "#assumed install cost ($/Wdc)\n",
    "cost_install = 0.94\n",
    "#eligible federal tax credit (% of install cost)\n",
    "fed_tax_credit = 0.26       #()\n",
    "#assumed interest rate (apr)\n",
    "interest = 0.05\n",
    "#life of project (years)\n",
    "project_life = 25 \n",
    "#annual maintenance costs ($/kW) \n",
    "cost_maint = 16     #(LLNL)\n",
    "#assumed years to inverter replacement (years)\n",
    "inv_replace_years = 10 \n",
    "#assumed inverter cost ($/W)\n",
    "cost_inv = 0.14     #(NREL)\n",
    "#salvage value ($/MW)\n",
    "sv = 4000   #(NREL)\n",
    "#variable operating costs ($/kW)\n",
    "voc = 0.01\n",
    "#value of electricity ($/kWh)\n",
    "cost_electricity = 0.075\n",
    "#term of loan (years)\n",
    "loan_term = 20\n",
    "#interest rate (%)\n",
    "interest = 0.05\n",
    "#amount financed ($)\n",
    "loan_amount = 45000000 \n",
    "#annual payments ($)\n",
    "loan_payments_ann = 3610920\n",
    "#losses - used pvwatts\n",
    "loss_soil = 0.2\n",
    "loss_spectral = 0.2\n",
    "loss_lid = 0.15\n",
    "loss_wiring = 0.2"
   ]
  },
  {
   "cell_type": "code",
   "execution_count": 667,
   "id": "d624b0ca",
   "metadata": {},
   "outputs": [],
   "source": [
    "#get module from database\n",
    "module = pvlib.pvsystem.retrieve_sam('CECMod')['First_Solar__Inc__FS_6435A']\n",
    "#get inverter from database\n",
    "inverter = pvlib.pvsystem.retrieve_sam('CECInverter')['SMA_America__SC720CP_US__with_ABB_EcoDry_Ultra_transformer_']"
   ]
  },
  {
   "cell_type": "code",
   "execution_count": 668,
   "id": "198a86ed",
   "metadata": {},
   "outputs": [],
   "source": [
    "#calculate optimal string length\n",
    "#step 1 : calculate max voc\n",
    "voc_max = module['V_oc_ref'] * (1 + (-6 - 25) * module['beta_oc']/100)\n",
    "#step 2 : calculate max modules in series\n",
    "max_strlen = int((1045)/voc_max)\n",
    "#step 3 : calculate min vmp\n",
    "vmp_min = module['V_mp_ref'] *(1+( (25 + 36.2 - 25) * (-0.28/100)))\n",
    "#step 4 : calculate min modules in series\n",
    "min_strlen = int((inverter['Mppt_low']* 1.1) / vmp_min)\n",
    "#calculate strings per inverter\n",
    "#step 5 : calculate max string current\n",
    "max_str_i = module['I_sc_ref'] * 1.25\n",
    "#step 6 : calculate max string power\n",
    "max_str_p = module['STC']*max_strlen\n",
    "#step 7 : calculate max system voltage\n",
    "max_sys_v = module['V_mp_ref'] * max_strlen\n",
    "#step 8: calculate max parallel strings\n",
    "max_str_par = int(inverter['Pdco'] / max_str_p)\n",
    "#calculate number of inverters needed to reach nameplate\n",
    "no_inv =int( nameplate*1000*1000 / inverter['Pdco'] )"
   ]
  },
  {
   "cell_type": "code",
   "execution_count": 669,
   "id": "2c04b19e",
   "metadata": {},
   "outputs": [],
   "source": [
    "#dc system size (MW)\n",
    "dc_sys = max_str_par*max_strlen*module['STC']*no_inv/1000/1000\n",
    "#ac system size (MW)\n",
    "ac_sys = no_inv * inverter['Paco']/1000/1000\n",
    "#dc/ac ratio\n",
    "dc_ac_ratio = dc_sys/ac_sys"
   ]
  },
  {
   "cell_type": "code",
   "execution_count": 670,
   "id": "52c8051e",
   "metadata": {},
   "outputs": [],
   "source": [
    "#racking type - fixed\n",
    "tilt = 20\n",
    "lat = 30\n",
    "lng = 91\n",
    "alt = 6\n",
    "sys_azi = 180\n",
    "#gcr / dist between rows (m)\n",
    "row_space = 11.5"
   ]
  },
  {
   "cell_type": "code",
   "execution_count": 671,
   "id": "a6356287",
   "metadata": {},
   "outputs": [],
   "source": [
    "#running model\n",
    "\n",
    "#calculates the solar data (zenith,azimuth,eot,elevation,etc)\n",
    "sol_data = pvlib.solarposition.get_solarposition(time=weather.index,latitude=lat,longitude=lng,altitude=alt,temperature=weather['Temp'])\n",
    "sol_data['dni_extra']=pvlib.irradiance.get_extra_radiation(weather.index)\n",
    "\n",
    "\n",
    "#calculate environmental data (poa components, aoi, airmass)\n",
    "env_data = pvlib.irradiance.get_total_irradiance(surface_tilt=tilt, surface_azimuth=sys_azi, solar_zenith=sol_data['apparent_zenith'],\n",
    "                                                 solar_azimuth=sol_data['azimuth'], dni=weather['DNI'],ghi=weather['GHI'],\n",
    "                                                 dhi=weather['DHI'], dni_extra=sol_data['dni_extra'], model='haydavies')\n",
    "env_data['aoi'] = pvlib.irradiance.aoi(surface_tilt=tilt, surface_azimuth=sys_azi, solar_zenith=sol_data['apparent_zenith'],\n",
    "                                       solar_azimuth=sol_data['azimuth'])\n",
    "env_data['airmass'] = pvlib.atmosphere.get_relative_airmass(zenith=sol_data['apparent_zenith'])\n",
    "weather['Pressure'] = pvlib.atmosphere.alt2pres(alt)\n",
    "env_data['am_abs'] = pvlib.atmosphere.get_absolute_airmass(airmass_relative=env_data['airmass'], pressure=(weather['Pressure']*100))\n",
    "\n",
    "#predict the cell temperature\n",
    "tmp=(TEMPERATURE_MODEL_PARAMETERS['sapm']['open_rack_glass_glass'])\n",
    "weather['cell_temp'] = pvlib.temperature.sapm_cell(poa_global=env_data['poa_global'], temp_air=weather['Temp'],\n",
    "                                                   wind_speed=weather['WS'], a=tmp['a'], b=tmp['b'], deltaT=tmp['deltaT'])\n",
    "\n",
    "\n",
    "cec_sdm = pvlib.pvsystem.calcparams_cec(env_data['poa_global'], weather['cell_temp'], module['alpha_sc'], module['a_ref'], module['I_L_ref'],\n",
    "                                       module['I_o_ref'], module['R_sh_ref'], module['R_s'], module['Adjust'])\n",
    "sdm_output = pvlib.pvsystem.singlediode(cec_sdm[0], cec_sdm[1], cec_sdm[2], cec_sdm[3], cec_sdm[4])\n",
    "\n",
    "#inverter performance dc (W)\n",
    "single_inv_performance_dc = (sdm_output['p_mp']*max_strlen*max_str_par)\n",
    "#system performance dc (MW)\n",
    "total_system_dc = (single_inv_performance_dc * no_inv)/1000/1000\n",
    "#inverter performance ac (W)\n",
    "single_inv_performance_ac = pvlib.inverter.pvwatts(single_inv_performance_dc, pdc0 = inverter['Pdco'])\n",
    "#system production ac (MW)\n",
    "total_system_ac = (no_inv * single_inv_performance_ac)/1000/1000"
   ]
  },
  {
   "cell_type": "code",
   "execution_count": 672,
   "id": "6e2b7e8e",
   "metadata": {},
   "outputs": [],
   "source": [
    "#performance information\n",
    "\n",
    "#annual energy production (MWh)\n",
    "ann_dc_energy = total_system_dc.sum()\n",
    "ann_ac_energy = total_system_ac.sum()\n",
    "#energy yield\n",
    "e_yield = (ann_dc_energy / nameplate)\n",
    "#final yield\n",
    "f_yield = ann_ac_energy / nameplate\n",
    "#reference yield\n",
    "ref_yield = env_data['poa_global'].sum()/1000 / 1\n",
    "#performance ratio\n",
    "pr = f_yield/ref_yield\n",
    "#capacity factor (%)\n",
    "cuf = (ann_ac_energy/(ac_sys*8760))*100\n",
    "#system efficiency\n",
    "n = ann_ac_energy / (env_data['poa_global'].sum()/1000/1000 * (max_str_par*max_strlen*no_inv*(2.475)) )"
   ]
  },
  {
   "cell_type": "code",
   "execution_count": 673,
   "id": "5aa8600d",
   "metadata": {},
   "outputs": [
    {
     "name": "stdout",
     "output_type": "stream",
     "text": [
      "5.790530939359452\n",
      "0.8964631876530197\n"
     ]
    }
   ],
   "source": [
    "print(cuf)\n",
    "print(pr)"
   ]
  },
  {
   "cell_type": "code",
   "execution_count": 674,
   "id": "1e12e60d",
   "metadata": {},
   "outputs": [
    {
     "data": {
      "text/plain": [
       "Text(0.5, 0, 'Month')"
      ]
     },
     "execution_count": 674,
     "metadata": {},
     "output_type": "execute_result"
    },
    {
     "data": {
      "image/png": "[encoded data removed]",
      "text/plain": [
       "<Figure size 1080x504 with 2 Axes>"
      ]
     },
     "metadata": {
      "needs_background": "light"
     },
     "output_type": "display_data"
    }
   ],
   "source": [
    "results = pd.read_excel('PP_results.xlsx')\n",
    "ax = results['Plant Predict'].plot()\n",
    "ax.set_ylabel('Plant Predict (MWh)')\n",
    "ax.legend(labels=['Plant Predict Energy'], loc='upper left')\n",
    "ax2 = ax.twinx()\n",
    "ax2.plot(results['PVLIB'], c='r', linestyle='-.')\n",
    "ax2.set_ylabel('PVLIB (MWh)')\n",
    "ax2.legend(labels=['PVLIB Energy'], loc='upper right')\n",
    "ax.set_xlabel('Month')"
   ]
  },
  {
   "cell_type": "code",
   "execution_count": 675,
   "id": "f753e365",
   "metadata": {},
   "outputs": [
    {
     "name": "stdout",
     "output_type": "stream",
     "text": [
      "LCOE = 0.103929388841339\n",
      "NPV = 4821286.515156109\n"
     ]
    }
   ],
   "source": [
    "#financial information\n",
    "\n",
    "#estimated installed costs (before credits and rebates)\n",
    "cost = cost_install * (nameplate*1000*1000)\n",
    "#total capital cost\n",
    "tcc =  cost*(1-fed_tax_credit)\n",
    "#fixed charge rate, assume fcr=cfr\n",
    "fcr = (interest/(1-(1+interest)**(-1*project_life)))\n",
    "#net annual savings\n",
    "\n",
    "#simple payback period\n",
    "spp = (cost/(ann_dc_energy*1000*cost_electricity))\n",
    "#lcoe\n",
    "lcoe = (((tcc)* (fcr)) + (45))/(ann_dc_energy*1000) + voc\n",
    "#npv\n",
    "(cost - (net_sav/(1+interest)**(-project_life)))\n",
    "print('LCOE = ' + str(lcoe))\n",
    "print('NPV = ' + str(npv))"
   ]
  },
  {
   "cell_type": "markdown",
   "id": "d73feba8",
   "metadata": {},
   "source": [
    "## Second System"
   ]
  },
  {
   "cell_type": "code",
   "execution_count": 609,
   "id": "4c99f6de",
   "metadata": {},
   "outputs": [],
   "source": [
    "#Read in weather file and specify column names\n",
    "weather_file_sam = 'new_iberia_la_30.0026_-91.817_psm3-tmy_60_tmy.csv'\n",
    "weather_sam = pd.read_csv(weather_file_sam)\n",
    "weather_sam.index = weather.index"
   ]
  },
  {
   "cell_type": "code",
   "execution_count": 610,
   "id": "2b2e2bfa",
   "metadata": {},
   "outputs": [],
   "source": [
    "#Cell Full of User Entered Specs\n",
    "\n",
    "#desired nameplate production (MW or kW)\n",
    "nameplate = 60\n",
    "\n",
    "#assumed install cost ($/Wdc)\n",
    "cost_install = 0.94\n",
    "#eligible federal tax credit (% of install cost)\n",
    "fed_tax_credit = 0.26       #(26 USC § 48)\n",
    "#assumed interest rate (apr)\n",
    "interest = 0.05\n",
    "#life of project (years)\n",
    "project_life = 25 \n",
    "#annual maintenance costs ($/kW) \n",
    "cost_maint = 16     #(LLNL)\n",
    "#assumed years to inverter replacement (years)\n",
    "inv_replace_years = 10 \n",
    "#assumed inverter cost ($/W)\n",
    "cost_inv = 0.14     #(NREL)\n",
    "#salvage value ($/MW)\n",
    "sv = 40000   #(NREL)\n",
    "#variable operating costs ($/kW)\n",
    "voc = 0.01\n",
    "#value of electricity ($/kWh)\n",
    "cost_electricity = 0.075\n",
    "#term of loan (years)\n",
    "loan_term = 20\n",
    "#interest rate (%)\n",
    "interest = 0.05\n",
    "#amount financed ($)\n",
    "loan_amount = 4500000\n",
    "#annual payments ($)\n",
    "loan_payments_ann = 361092\n",
    "#losses - used pvwatts\n",
    "loss_soil = 0.2\n",
    "loss_spectral = 0.2\n",
    "loss_lid = 0.15\n",
    "loss_wiring = 0.2"
   ]
  },
  {
   "cell_type": "code",
   "execution_count": 611,
   "id": "7ec0d038",
   "metadata": {},
   "outputs": [],
   "source": [
    "#get module from database\n",
    "module = pvlib.pvsystem.retrieve_sam('CECMod')['SunPower_SPR_435NE_WHT_D']\n",
    "#get inverter from database\n",
    "inverter = pvlib.pvsystem.retrieve_sam('CECInverter')['INGETEAM_POWER_TECHNOLOGY_S_A___Ingecon_Sun_610TL_U_B220_Indoor__220V_']"
   ]
  },
  {
   "cell_type": "code",
   "execution_count": 612,
   "id": "32f224c8",
   "metadata": {},
   "outputs": [],
   "source": [
    "#calculate optimal string length\n",
    "#step 1 : calculate max voc\n",
    "voc_max = module['V_oc_ref'] * (1 + (-6 - 25) * module['beta_oc']/100)\n",
    "#step 2 : calculate max modules in series\n",
    "max_strlen = int((1045)/voc_max)\n",
    "#step 3 : calculate min vmp\n",
    "vmp_min = module['V_mp_ref'] *(1+( (25 + 36.2 - 25) * (-0.28/100)))\n",
    "#step 4 : calculate min modules in series\n",
    "min_strlen = int((inverter['Mppt_low']* 1.1) / vmp_min)\n",
    "#calculate strings per inverter\n",
    "#step 5 : calculate max string current\n",
    "max_str_i = module['I_sc_ref'] * 1.25\n",
    "#step 6 : calculate max string power\n",
    "max_str_p = module['STC']*max_strlen\n",
    "#step 7 : calculate max system voltage\n",
    "max_sys_v = module['V_mp_ref'] * max_strlen\n",
    "#step 8: calculate max parallel strings\n",
    "max_str_par = int(inverter['Pdco'] / max_str_p)\n",
    "#calculate number of inverters needed to reach nameplate\n",
    "no_inv =int( nameplate*1000*1000 / inverter['Pdco'] )"
   ]
  },
  {
   "cell_type": "code",
   "execution_count": 613,
   "id": "fca99134",
   "metadata": {},
   "outputs": [],
   "source": [
    "##### dc system size (MW)\n",
    "dc_sys = max_str_par*max_strlen*module['STC']*no_inv/1000/1000\n",
    "#ac system size (MW)\n",
    "ac_sys = no_inv * inverter['Paco']/1000/1000\n",
    "#dc/ac ratio\n",
    "dc_ac_ratio = dc_sys/ac_sys"
   ]
  },
  {
   "cell_type": "code",
   "execution_count": 614,
   "id": "7261b860",
   "metadata": {},
   "outputs": [],
   "source": [
    "#racking type - fixed\n",
    "tilt = 20\n",
    "lat = 30\n",
    "lng = 91\n",
    "alt = 6\n",
    "sys_azi = 180\n",
    "#gcr / dist between rows (m)\n",
    "row_space = 11.5"
   ]
  },
  {
   "cell_type": "code",
   "execution_count": 615,
   "id": "665037b2",
   "metadata": {},
   "outputs": [],
   "source": [
    "#running model\n",
    "\n",
    "#calculates the solar data (zenith,azimuth,eot,elevation,etc)\n",
    "sol_data = pvlib.solarposition.get_solarposition(time=weather.index,latitude=lat,longitude=lng,altitude=alt,temperature=weather['Temp'])\n",
    "sol_data['dni_extra']=pvlib.irradiance.get_extra_radiation(weather.index)\n",
    "\n",
    "\n",
    "#calculate environmental data (poa components, aoi, airmass)\n",
    "env_data = pvlib.irradiance.get_total_irradiance(surface_tilt=tilt, surface_azimuth=sys_azi, solar_zenith=sol_data['apparent_zenith'],\n",
    "                                                 solar_azimuth=sol_data['azimuth'], dni=weather['DNI'],ghi=weather['GHI'],\n",
    "                                                 dhi=weather['DHI'], dni_extra=sol_data['dni_extra'], model='haydavies')\n",
    "env_data['aoi'] = pvlib.irradiance.aoi(surface_tilt=tilt, surface_azimuth=sys_azi, solar_zenith=sol_data['apparent_zenith'],\n",
    "                                       solar_azimuth=sol_data['azimuth'])\n",
    "env_data['airmass'] = pvlib.atmosphere.get_relative_airmass(zenith=sol_data['apparent_zenith'])\n",
    "weather['Pressure'] = pvlib.atmosphere.alt2pres(alt)\n",
    "env_data['am_abs'] = pvlib.atmosphere.get_absolute_airmass(airmass_relative=env_data['airmass'], pressure=(weather['Pressure']*100))\n",
    "\n",
    "#predict the cell temperature\n",
    "tmp=(TEMPERATURE_MODEL_PARAMETERS['sapm']['open_rack_glass_glass'])\n",
    "weather['cell_temp'] = pvlib.temperature.sapm_cell(poa_global=env_data['poa_global'], temp_air=weather['Temp'],\n",
    "                                                   wind_speed=weather['WS'], a=tmp['a'], b=tmp['b'], deltaT=tmp['deltaT'])\n",
    "\n",
    "\n",
    "cec_sdm = pvlib.pvsystem.calcparams_cec(env_data['poa_global'], weather['cell_temp'], module['alpha_sc'], module['a_ref'], module['I_L_ref'],\n",
    "                                       module['I_o_ref'], module['R_sh_ref'], module['R_s'], module['Adjust'])\n",
    "sdm_output = pvlib.pvsystem.singlediode(cec_sdm[0], cec_sdm[1], cec_sdm[2], cec_sdm[3], cec_sdm[4])\n",
    "\n",
    "#inverter performance dc (W)\n",
    "single_inv_performance_dc = (sdm_output['p_mp']*max_strlen*max_str_par)\n",
    "#system performance dc (W)\n",
    "total_system_dc = (single_inv_performance_dc * no_inv)/1000/1000\n",
    "#inverter performance ac (W)\n",
    "single_inv_performance_ac = pvlib.inverter.pvwatts(single_inv_performance_dc, pdc0 = inverter['Pdco'])\n",
    "#system production ac (MW)\n",
    "total_system_ac = (no_inv * single_inv_performance_ac)/1000/1000"
   ]
  },
  {
   "cell_type": "code",
   "execution_count": 616,
   "id": "43b52c9e",
   "metadata": {},
   "outputs": [],
   "source": [
    "#performance information\n",
    "\n",
    "#annual energy production (MWh)\n",
    "ann_dc_energy = total_system_dc.sum()\n",
    "ann_ac_energy = total_system_ac.sum()\n",
    "#energy yield\n",
    "e_yield = (ann_dc_energy / nameplate)\n",
    "#final yield\n",
    "f_yield = ann_ac_energy / nameplate\n",
    "#reference yield\n",
    "ref_yield = env_data['poa_global'].sum()/1000 / 1\n",
    "#performance ratio\n",
    "pr = f_yield/ref_yield\n",
    "#capacity factor (%)\n",
    "cuf = (ann_ac_energy/(ac_sys*8760))*100\n",
    "#system efficiency\n",
    "n = ann_ac_energy / (env_data['poa_global'].sum()/1000/1000 * (max_str_par*max_strlen*no_inv*(2.475)) )"
   ]
  },
  {
   "cell_type": "code",
   "execution_count": 617,
   "id": "eb71a8bf",
   "metadata": {},
   "outputs": [
    {
     "name": "stdout",
     "output_type": "stream",
     "text": [
      "0.847806834574251\n",
      "5.469251656331705\n"
     ]
    }
   ],
   "source": [
    "print(pr)\n",
    "print(cuf)"
   ]
  },
  {
   "cell_type": "code",
   "execution_count": 622,
   "id": "ad72d9ab",
   "metadata": {},
   "outputs": [],
   "source": [
    "results = pd.read_excel('SAM_results.xlsx')"
   ]
  },
  {
   "cell_type": "code",
   "execution_count": 619,
   "id": "ae088ef8",
   "metadata": {},
   "outputs": [],
   "source": [
    "import matplotlib as mpl\n",
    "mpl.rcParams[\"figure.figsize\"] = (15,7)\n",
    "mpl.rcParams['font.size']=12\n",
    "mpl.rcParams['lines.linewidth']=1\n",
    "mpl.rcParams['xtick.labelsize']=10\n",
    "mpl.rcParams['axes.titlesize']=22"
   ]
  },
  {
   "cell_type": "code",
   "execution_count": 624,
   "id": "80d3634d",
   "metadata": {},
   "outputs": [
    {
     "data": {
      "text/plain": [
       "Text(0.5, 0, 'Month')"
      ]
     },
     "execution_count": 624,
     "metadata": {},
     "output_type": "execute_result"
    },
    {
     "data": {
      "image/png": "[encoded data removed]",
      "text/plain": [
       "<Figure size 1080x504 with 2 Axes>"
      ]
     },
     "metadata": {
      "needs_background": "light"
     },
     "output_type": "display_data"
    }
   ],
   "source": [
    "ax = results['SAM'].plot()\n",
    "ax.set_ylabel('SAM (kWh)')\n",
    "ax.legend(labels=['SAM Energy'], loc='upper left')\n",
    "ax2 = ax.twinx()\n",
    "ax2.plot(results['PVLIB'], c='r', linestyle='-.')\n",
    "ax2.set_ylabel('PVLIB (kWh)')\n",
    "ax2.legend(labels=['PVLIB Energy'], loc='upper right')\n",
    "ax.set_xlabel('Month')"
   ]
  },
  {
   "cell_type": "code",
   "execution_count": 663,
   "id": "a443f0d8",
   "metadata": {},
   "outputs": [
    {
     "name": "stdout",
     "output_type": "stream",
     "text": [
      "LCOE = 0.10903873044538367\n",
      "NPV = 4821286.515156109\n"
     ]
    }
   ],
   "source": [
    "#financial information\n",
    "\n",
    "#estimated installed costs (before credits and rebates)\n",
    "cost = cost_install * (nameplate*1000*1000)\n",
    "#total capital cost\n",
    "tcc =  cost*(1-fed_tax_credit)\n",
    "#fixed charge rate, assume fcr=cfr\n",
    "fcr = (interest/(1-(1+interest)**(-1*project_life)))\n",
    "#net annual savings\n",
    "net_sav = loan_amount - cost_electricity*(ann_ac_energy*1000)\n",
    "#simple payback period\n",
    "spp = (cost/(ann_dc_energy*1000*cost_electricity))\n",
    "#lcoe\n",
    "lcoe = (((tcc)* (fcr)) + (45))/(ann_dc_energy*1000) + voc\n",
    "#npv\n",
    "npv = (cost - (net_sav/(1+interest)**(-project_life)))\n",
    "print('LCOE = ' + str(lcoe))\n",
    "print('NPV = ' + str(npv))"
   ]
  },
  {
   "cell_type": "code",
   "execution_count": null,
   "id": "aeea0114",
   "metadata": {},
   "outputs": [],
   "source": []
  }
 ],
 "metadata": {
  "kernelspec": {
   "display_name": "ldeville",
   "language": "python",
   "name": "ldeville"
  },
  "language_info": {
   "codemirror_mode": {
    "name": "ipython",
    "version": 3
   },
   "file_extension": ".py",
   "mimetype": "text/x-python",
   "name": "python",
   "nbconvert_exporter": "python",
   "pygments_lexer": "ipython3",
   "version": "3.9.7"
  }
 },
 "nbformat": 4,
 "nbformat_minor": 5
}
